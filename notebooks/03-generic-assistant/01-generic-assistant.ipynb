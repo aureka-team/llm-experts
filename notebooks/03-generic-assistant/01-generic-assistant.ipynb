{
 "cells": [
  {
   "cell_type": "code",
   "execution_count": null,
   "metadata": {},
   "outputs": [],
   "source": [
    "# import os\n",
    "# os.environ[\"LOG_LEVEL\"] = \"debug\""
   ]
  },
  {
   "cell_type": "code",
   "execution_count": null,
   "metadata": {},
   "outputs": [],
   "source": [
    "import uuid\n",
    "\n",
    "from rich.pretty import pprint\n",
    "\n",
    "from llm_experts.experts import GenericAssistant, GenericAssistantInput\n",
    "from llm_experts.utils.chat_history import get_mongodb_chat_history"
   ]
  },
  {
   "cell_type": "code",
   "execution_count": null,
   "metadata": {},
   "outputs": [],
   "source": [
    "mongodb_chat_history = get_mongodb_chat_history(\n",
    "    session_id=uuid.uuid4().hex,\n",
    "    collection_name=\"generic-assistant\",\n",
    ")\n",
    "\n",
    "generic_assitant = GenericAssistant(mongodb_chat_history=mongodb_chat_history)"
   ]
  },
  {
   "cell_type": "code",
   "execution_count": null,
   "metadata": {},
   "outputs": [],
   "source": [
    "# user_query_1 = \"What is acid rain?\"\n",
    "user_query_1 = \"Hello I'm from Australia\"\n",
    "expert_output_1 = generic_assitant.generate(\n",
    "    expert_input=GenericAssistantInput(\n",
    "        user_query=user_query_1,\n",
    "    )\n",
    ")\n",
    "\n",
    "pprint(expert_output_1)"
   ]
  },
  {
   "cell_type": "code",
   "execution_count": null,
   "metadata": {},
   "outputs": [],
   "source": [
    "# user_query_2 = \"And why it is harmful to humans?\"\n",
    "user_query_2 = \"Do you know what is my origin country?\"\n",
    "expert_output_2 = generic_assitant.generate(\n",
    "    expert_input=GenericAssistantInput(\n",
    "        user_query=user_query_2,\n",
    "    )\n",
    ")\n",
    "\n",
    "pprint(expert_output_2)"
   ]
  },
  {
   "cell_type": "code",
   "execution_count": null,
   "metadata": {},
   "outputs": [],
   "source": [
    "pprint(generic_assitant.mongodb_chat_history.messages)"
   ]
  },
  {
   "cell_type": "code",
   "execution_count": null,
   "metadata": {},
   "outputs": [],
   "source": []
  }
 ],
 "metadata": {
  "kernelspec": {
   "display_name": "Python 3",
   "language": "python",
   "name": "python3"
  },
  "language_info": {
   "codemirror_mode": {
    "name": "ipython",
    "version": 3
   },
   "file_extension": ".py",
   "mimetype": "text/x-python",
   "name": "python",
   "nbconvert_exporter": "python",
   "pygments_lexer": "ipython3",
   "version": "3.12.3"
  }
 },
 "nbformat": 4,
 "nbformat_minor": 2
}
