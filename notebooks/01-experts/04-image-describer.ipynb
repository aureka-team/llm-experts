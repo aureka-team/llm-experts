{
 "cells": [
  {
   "cell_type": "code",
   "execution_count": null,
   "metadata": {},
   "outputs": [],
   "source": [
    "from rich.pretty import pprint\n",
    "from common.cache import RedisCache\n",
    "\n",
    "from llm_experts.utils.image import get_b64_image_url\n",
    "from llm_experts.experts import ImageDescriber, ImageDescriberInput"
   ]
  },
  {
   "cell_type": "code",
   "execution_count": null,
   "metadata": {},
   "outputs": [],
   "source": [
    "image_describer = ImageDescriber(cache=RedisCache())"
   ]
  },
  {
   "cell_type": "code",
   "execution_count": null,
   "metadata": {},
   "outputs": [],
   "source": [
    "image_url = get_b64_image_url(image_path=\"/resources/images/bas-small.png\")\n",
    "image_describer_output = await image_describer.async_generate(\n",
    "    expert_input=ImageDescriberInput(\n",
    "        image_url=image_url,\n",
    "        image_detail=\"high\",\n",
    "    )\n",
    ")\n",
    "\n",
    "pprint(image_describer_output)"
   ]
  },
  {
   "cell_type": "code",
   "execution_count": null,
   "metadata": {},
   "outputs": [],
   "source": []
  }
 ],
 "metadata": {
  "kernelspec": {
   "display_name": "Python 3",
   "language": "python",
   "name": "python3"
  },
  "language_info": {
   "codemirror_mode": {
    "name": "ipython",
    "version": 3
   },
   "file_extension": ".py",
   "mimetype": "text/x-python",
   "name": "python",
   "nbconvert_exporter": "python",
   "pygments_lexer": "ipython3",
   "version": "3.12.3"
  }
 },
 "nbformat": 4,
 "nbformat_minor": 2
}
