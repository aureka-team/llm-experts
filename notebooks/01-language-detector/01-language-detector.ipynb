{
 "cells": [
  {
   "cell_type": "code",
   "execution_count": null,
   "metadata": {},
   "outputs": [],
   "source": [
    "from rich.pretty import pprint\n",
    "from common.cache import RedisCache\n",
    "\n",
    "from llm_experts.meta import LanguageDetectorInput\n",
    "from llm_experts.experts import LanguageDetectorExpert"
   ]
  },
  {
   "cell_type": "code",
   "execution_count": null,
   "metadata": {},
   "outputs": [],
   "source": [
    "cache = RedisCache()\n",
    "language_detector = LanguageDetectorExpert(cache=None)"
   ]
  },
  {
   "cell_type": "code",
   "execution_count": null,
   "metadata": {},
   "outputs": [],
   "source": [
    "expert_input = LanguageDetectorInput(text=\"This is the example number: 0\")"
   ]
  },
  {
   "cell_type": "code",
   "execution_count": null,
   "metadata": {},
   "outputs": [],
   "source": [
    "expert_output = language_detector.generate(expert_input=expert_input)\n",
    "pprint(expert_output)"
   ]
  },
  {
   "cell_type": "code",
   "execution_count": null,
   "metadata": {},
   "outputs": [],
   "source": [
    "expert_output = await language_detector.async_generate(\n",
    "    expert_input=expert_input\n",
    ")\n",
    "\n",
    "pprint(expert_output)"
   ]
  },
  {
   "cell_type": "code",
   "execution_count": null,
   "metadata": {},
   "outputs": [],
   "source": [
    "n_inputs = 2\n",
    "template_text = \"This is the example number: {number}\"\n",
    "expert_inputs = [\n",
    "    LanguageDetectorInput(text=template_text.format(number=idx))\n",
    "    for idx in range(1, n_inputs)\n",
    "]\n",
    "\n",
    "pprint(expert_inputs[:5])"
   ]
  },
  {
   "cell_type": "code",
   "execution_count": null,
   "metadata": {},
   "outputs": [],
   "source": [
    "expert_outputs = await language_detector.batch_generate(\n",
    "    expert_inputs=expert_inputs\n",
    ")\n",
    "\n",
    "pprint(len(expert_outputs))\n",
    "pprint(expert_outputs[:5])"
   ]
  },
  {
   "cell_type": "code",
   "execution_count": null,
   "metadata": {},
   "outputs": [],
   "source": []
  }
 ],
 "metadata": {
  "kernelspec": {
   "display_name": "Python 3",
   "language": "python",
   "name": "python3"
  },
  "language_info": {
   "codemirror_mode": {
    "name": "ipython",
    "version": 3
   },
   "file_extension": ".py",
   "mimetype": "text/x-python",
   "name": "python",
   "nbconvert_exporter": "python",
   "pygments_lexer": "ipython3",
   "version": "3.12.3"
  }
 },
 "nbformat": 4,
 "nbformat_minor": 2
}
