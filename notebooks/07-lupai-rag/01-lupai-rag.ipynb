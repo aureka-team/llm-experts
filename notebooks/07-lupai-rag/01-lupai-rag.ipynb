{
    "cells": [
        {
            "cell_type": "code",
            "execution_count": null,
            "metadata": {},
            "outputs": [],
            "source": [
                "from rich.pretty import pprint\n",
                "from common.cache import RedisCache\n",
                "\n",
                "from llm_experts.meta import RAGInput\n",
                "from llm_experts.experts import LupAIRAGExpert"
            ]
        },
        {
            "cell_type": "code",
            "execution_count": null,
            "metadata": {},
            "outputs": [],
            "source": [
                "cache = RedisCache()\n",
                "lupai_rag_expert = LupAIRAGExpert(cache=cache)"
            ]
        },
        {
            "cell_type": "code",
            "execution_count": null,
            "metadata": {},
            "outputs": [],
            "source": [
                "expert_inpt = {\n",
                "    \"text_chunks\": [\n",
                "        {\n",
                "            \"chunk_id\": 1,\n",
                "            \"text\": \"Esto es un ejemplo\",\n",
                "        },\n",
                "        {\n",
                "            \"chunk_id\": 2,\n",
                "            \"text\": \"Esto tambíen es un ejemplo\",\n",
                "        },\n",
                "        {\n",
                "            \"chunk_id\": 3,\n",
                "            \"text\": \"Hernan tiene 3 hermanos\",\n",
                "        },\n",
                "    ],\n",
                "    \"query_text\": \"Cuantos hermanos tiene Hernan?\",\n",
                "    \"output_language\": \"English\",\n",
                "}\n",
                "\n",
                "expert_output = lupai_rag_expert.generate(expert_input=RAGInput(**expert_inpt))\n",
                "pprint(expert_output)"
            ]
        },
        {
            "cell_type": "code",
            "execution_count": null,
            "metadata": {},
            "outputs": [],
            "source": []
        }
    ],
    "metadata": {
        "kernelspec": {
            "display_name": "Python 3",
            "language": "python",
            "name": "python3"
        },
        "language_info": {
            "codemirror_mode": {
                "name": "ipython",
                "version": 3
            },
            "file_extension": ".py",
            "mimetype": "text/x-python",
            "name": "python",
            "nbconvert_exporter": "python",
            "pygments_lexer": "ipython3",
            "version": "3.12.3"
        }
    },
    "nbformat": 4,
    "nbformat_minor": 2
}
