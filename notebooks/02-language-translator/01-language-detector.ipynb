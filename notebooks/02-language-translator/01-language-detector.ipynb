{
    "cells": [
        {
            "cell_type": "code",
            "execution_count": 1,
            "metadata": {},
            "outputs": [],
            "source": [
                "from rich.pretty import pprint\n",
                "from common.cache import RedisCache\n",
                "\n",
                "from llm_experts.meta import LanguageTranslatorInput\n",
                "from llm_experts.experts import LanguageTranslatorExpert"
            ]
        },
        {
            "cell_type": "code",
            "execution_count": 2,
            "metadata": {},
            "outputs": [],
            "source": [
                "cache = RedisCache()\n",
                "language_translator = LanguageTranslatorExpert(cache=cache)"
            ]
        },
        {
            "cell_type": "code",
            "execution_count": null,
            "metadata": {},
            "outputs": [],
            "source": [
                "n_inputs = 2\n",
                "template_text = \"This is the example number: {number}\"\n",
                "expert_inputs = [\n",
                "    LanguageTranslatorInput(\n",
                "        source_text=template_text.format(number=idx),\n",
                "        source_language=\"English\",\n",
                "        target_language=\"Spanish\",\n",
                "    )\n",
                "    for idx in range(1, n_inputs)\n",
                "]\n",
                "\n",
                "pprint(expert_inputs[:5])"
            ]
        },
        {
            "cell_type": "code",
            "execution_count": null,
            "metadata": {},
            "outputs": [],
            "source": [
                "expert_outputs = await language_translator.batch_generate(\n",
                "    expert_inputs=expert_inputs\n",
                ")\n",
                "\n",
                "pprint(len(expert_outputs))\n",
                "pprint(expert_outputs[:5])"
            ]
        },
        {
            "cell_type": "code",
            "execution_count": null,
            "metadata": {},
            "outputs": [],
            "source": []
        }
    ],
    "metadata": {
        "kernelspec": {
            "display_name": "Python 3",
            "language": "python",
            "name": "python3"
        },
        "language_info": {
            "codemirror_mode": {
                "name": "ipython",
                "version": 3
            },
            "file_extension": ".py",
            "mimetype": "text/x-python",
            "name": "python",
            "nbconvert_exporter": "python",
            "pygments_lexer": "ipython3",
            "version": "3.12.3"
        }
    },
    "nbformat": 4,
    "nbformat_minor": 2
}
