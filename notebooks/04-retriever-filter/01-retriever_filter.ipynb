{
    "cells": [
        {
            "cell_type": "code",
            "execution_count": null,
            "metadata": {},
            "outputs": [],
            "source": [
                "from rich.pretty import pprint\n",
                "from common.cache import RedisCache\n",
                "\n",
                "from llm_experts.meta import RretrieverFilterInput\n",
                "from llm_experts.experts import RetrieverFilterExpert"
            ]
        },
        {
            "cell_type": "code",
            "execution_count": null,
            "metadata": {},
            "outputs": [],
            "source": [
                "cache = RedisCache()\n",
                "retriever_filter_expert = RetrieverFilterExpert(cache=cache)"
            ]
        },
        {
            "cell_type": "code",
            "execution_count": null,
            "metadata": {},
            "outputs": [],
            "source": [
                "expert_inpt = {\n",
                "    \"text_chunks\": [\n",
                "        {\n",
                "            \"chunk_id\": 1,\n",
                "            \"text\": \"Esto es un ejemplo\",\n",
                "        },\n",
                "        {\n",
                "            \"chunk_id\": 2,\n",
                "            \"text\": \"Esto tambíen es un ejemplo\",\n",
                "        },\n",
                "        {\n",
                "            \"chunk_id\": 3,\n",
                "            \"text\": \"Hernan tiene 3 hermanos\",\n",
                "        },\n",
                "    ],\n",
                "    \"query_text\": \"Cuantos hermanos tiene Hernan?\",\n",
                "}\n",
                "\n",
                "expert_output = retriever_filter_expert.generate(\n",
                "    expert_input=RretrieverFilterInput(**expert_inpt)\n",
                ")\n",
                "\n",
                "pprint(expert_output)"
            ]
        },
        {
            "cell_type": "code",
            "execution_count": null,
            "metadata": {},
            "outputs": [],
            "source": [
                "expert_inpt = {\n",
                "    \"text_chunks\": [\n",
                "        {\n",
                "            \"chunk_id\": 1,\n",
                "            \"text\": \"Esto es un ejemplo\",\n",
                "        },\n",
                "        {\n",
                "            \"chunk_id\": 2,\n",
                "            \"text\": \"Esto tambíen es un ejemplo\",\n",
                "        },\n",
                "        {\n",
                "            \"chunk_id\": 3,\n",
                "            \"text\": \"Y este es el ultimo ejemplo\",\n",
                "        },\n",
                "    ],\n",
                "    \"query_text\": \"Cuantos hermanos tiene Hernan?\",\n",
                "}\n",
                "\n",
                "expert_output = retriever_filter_expert.generate(\n",
                "    expert_input=RretrieverFilterInput(**expert_inpt)\n",
                ")\n",
                "\n",
                "pprint(expert_output)"
            ]
        }
    ],
    "metadata": {
        "kernelspec": {
            "display_name": "Python 3",
            "language": "python",
            "name": "python3"
        },
        "language_info": {
            "codemirror_mode": {
                "name": "ipython",
                "version": 3
            },
            "file_extension": ".py",
            "mimetype": "text/x-python",
            "name": "python",
            "nbconvert_exporter": "python",
            "pygments_lexer": "ipython3",
            "version": "3.12.3"
        }
    },
    "nbformat": 4,
    "nbformat_minor": 2
}